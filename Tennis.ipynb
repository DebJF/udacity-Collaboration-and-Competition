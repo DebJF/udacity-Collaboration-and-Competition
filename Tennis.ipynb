{
 "cells": [
  {
   "cell_type": "markdown",
   "metadata": {},
   "source": [
    "# Collaboration and Competition\n",
    "\n",
    "---\n",
    "\n",
    "You are welcome to use this coding environment to train your agent for the project.  Follow the instructions below to get started!\n",
    "\n",
    "### 1. Start the Environment\n",
    "\n",
    "Run the next code cell to install a few packages.  This line will take a few minutes to run!"
   ]
  },
  {
   "cell_type": "code",
   "execution_count": 1,
   "metadata": {},
   "outputs": [
    {
     "name": "stdout",
     "output_type": "stream",
     "text": [
      "\u001b[31mtensorflow 1.7.1 has requirement numpy>=1.13.3, but you'll have numpy 1.12.1 which is incompatible.\u001b[0m\r\n",
      "\u001b[31mipython 6.5.0 has requirement prompt-toolkit<2.0.0,>=1.0.15, but you'll have prompt-toolkit 3.0.3 which is incompatible.\u001b[0m\r\n"
     ]
    }
   ],
   "source": [
    "!pip -q install ./python"
   ]
  },
  {
   "cell_type": "markdown",
   "metadata": {},
   "source": [
    "The environment is already saved in the Workspace and can be accessed at the file path provided below. "
   ]
  },
  {
   "cell_type": "code",
   "execution_count": 2,
   "metadata": {},
   "outputs": [
    {
     "name": "stderr",
     "output_type": "stream",
     "text": [
      "INFO:unityagents:\n",
      "'Academy' started successfully!\n",
      "Unity Academy name: Academy\n",
      "        Number of Brains: 1\n",
      "        Number of External Brains : 1\n",
      "        Lesson number : 0\n",
      "        Reset Parameters :\n",
      "\t\t\n",
      "Unity brain name: TennisBrain\n",
      "        Number of Visual Observations (per agent): 0\n",
      "        Vector Observation space type: continuous\n",
      "        Vector Observation space size (per agent): 8\n",
      "        Number of stacked Vector Observation: 3\n",
      "        Vector Action space type: continuous\n",
      "        Vector Action space size (per agent): 2\n",
      "        Vector Action descriptions: , \n"
     ]
    }
   ],
   "source": [
    "from unityagents import UnityEnvironment\n",
    "import numpy as np\n",
    "\n",
    "env = UnityEnvironment(file_name=\"/data/Tennis_Linux_NoVis/Tennis\")"
   ]
  },
  {
   "cell_type": "markdown",
   "metadata": {},
   "source": [
    "Environments contain **_brains_** which are responsible for deciding the actions of their associated agents. Here we check for the first brain available, and set it as the default brain we will be controlling from Python."
   ]
  },
  {
   "cell_type": "code",
   "execution_count": 3,
   "metadata": {},
   "outputs": [],
   "source": [
    "# get the default brain\n",
    "brain_name = env.brain_names[0]\n",
    "brain = env.brains[brain_name]"
   ]
  },
  {
   "cell_type": "markdown",
   "metadata": {},
   "source": [
    "### 2. Examine the State and Action Spaces\n",
    "\n",
    "Run the code cell below to print some information about the environment."
   ]
  },
  {
   "cell_type": "code",
   "execution_count": 4,
   "metadata": {},
   "outputs": [
    {
     "name": "stdout",
     "output_type": "stream",
     "text": [
      "Number of agents: 2\n",
      "Size of each action: 2\n",
      "There are 2 agents. Each observes a state with length: 24\n",
      "The state for the first agent looks like: [ 0.          0.          0.          0.          0.          0.          0.\n",
      "  0.          0.          0.          0.          0.          0.          0.\n",
      "  0.          0.         -6.65278625 -1.5        -0.          0.\n",
      "  6.83172083  6.         -0.          0.        ]\n",
      "And for the second agent it is: [ 0.          0.          0.          0.          0.          0.          0.\n",
      "  0.          0.          0.          0.          0.          0.          0.\n",
      "  0.          0.         -6.4669857  -1.5         0.          0.\n",
      " -6.83172083  6.          0.          0.        ]\n",
      "States.shape  (2, 24)\n"
     ]
    }
   ],
   "source": [
    "# reset the environment\n",
    "env_info = env.reset(train_mode=True)[brain_name]\n",
    "\n",
    "# number of agents \n",
    "num_agents = len(env_info.agents)\n",
    "print('Number of agents:', num_agents)\n",
    "\n",
    "# size of each action\n",
    "action_size = brain.vector_action_space_size\n",
    "print('Size of each action:', action_size)\n",
    "\n",
    "# examine the state space \n",
    "states = env_info.vector_observations\n",
    "state_size = states.shape[1]\n",
    "print('There are {} agents. Each observes a state with length: {}'.format(states.shape[0], state_size))\n",
    "print('The state for the first agent looks like:', states[0])\n",
    "print('And for the second agent it is:', states[1])\n",
    "print('States.shape ',states.shape)"
   ]
  },
  {
   "cell_type": "markdown",
   "metadata": {},
   "source": [
    "### 3. Take Random Actions in the Environment\n",
    "\n",
    "In the next code cell, you will learn how to use the Python API to control the agent and receive feedback from the environment.\n",
    "\n",
    "Note that **in this coding environment, you will not be able to watch the agents while they are training**, and you should set `train_mode=True` to restart the environment.\n"
   ]
  },
  {
   "cell_type": "code",
   "execution_count": 5,
   "metadata": {},
   "outputs": [
    {
     "name": "stdout",
     "output_type": "stream",
     "text": [
      "Total score (max over agents) averaged over episodes: 0.009000000171363353\n"
     ]
    }
   ],
   "source": [
    "num_episodes = 10\n",
    "scores = np.zeros(num_episodes)\n",
    "np.random.seed(5)\n",
    "for i in range(num_episodes):                                         # play game for 5 episodes\n",
    "    env_info = env.reset(train_mode=False)[brain_name]     # reset the environment    \n",
    "    states = env_info.vector_observations                  # get the current state (for each agent)\n",
    "    score = np.zeros(num_agents)                          # initialize the score (for each agent)\n",
    "    while True:\n",
    "        actions = np.random.randn(num_agents, action_size) # select an action (for each agent)\n",
    "        actions = np.clip(actions, -1, 1)                  # all actions between -1 and 1\n",
    "        env_info = env.step(actions)[brain_name]           # send all actions to tne environment\n",
    "        next_states = env_info.vector_observations         # get next state (for each agent)\n",
    "        rewards = env_info.rewards                         # get reward (for each agent)\n",
    "        dones = env_info.local_done                        # see if episode finished\n",
    "        score += env_info.rewards                         # update the score (for each agent)\n",
    "        states = next_states                               # roll over states to next time step\n",
    "        if np.any(dones):                                  # exit loop if episode finished\n",
    "            break\n",
    "    scores[i] = np.max(score)\n",
    "print('Total score (max over agents) averaged over episodes: {}'.format(np.mean(scores)))"
   ]
  },
  {
   "cell_type": "markdown",
   "metadata": {},
   "source": [
    "### 4. It's Your Turn!\n",
    "\n",
    "Now it's your turn to train your own agent to solve the environment!  A few **important notes**:\n",
    "- When training the environment, set `train_mode=True`, so that the line for resetting the environment looks like the following:\n",
    "```python\n",
    "env_info = env.reset(train_mode=True)[brain_name]\n",
    "```\n",
    "- To structure your work, you're welcome to work directly in this Jupyter notebook, or you might like to start over with a new file!  You can see the list of files in the workspace by clicking on **_Jupyter_** in the top left corner of the notebook.\n",
    "- In this coding environment, you will not be able to watch the agents while they are training.  However, **_after training the agents_**, you can download the saved model weights to watch the agents on your own machine! "
   ]
  },
  {
   "cell_type": "code",
   "execution_count": 6,
   "metadata": {},
   "outputs": [],
   "source": [
    "# Import libtaries to facilitate plotting\n",
    "import torch\n",
    "from collections import deque\n",
    "import matplotlib.pyplot as plt\n",
    "%matplotlib inline\n",
    "\n",
    "from ddpg_agent import Agent, MADDPG\n",
    "state_shape = env_info.vector_observations.shape\n",
    "action_shape = (num_agents, action_size)\n",
    "maddpg_agent = MADDPG(state_shape, action_shape, random_seed = 2)\n",
    "NOISE_AMPLITUDE = 2.\n",
    "NOISE_FACTOR = 0.999\n",
    "NOISE_MIN = 1."
   ]
  },
  {
   "cell_type": "code",
   "execution_count": 7,
   "metadata": {
    "scrolled": false
   },
   "outputs": [
    {
     "name": "stdout",
     "output_type": "stream",
     "text": [
      "Episode 100\tAverage Score: 0.021\tLatest Score: 0.000\n",
      "Episode 200\tAverage Score: 0.022\tLatest Score: 0.000\n",
      "Episode 300\tAverage Score: 0.020\tLatest Score: 0.000\n",
      "Episode 400\tAverage Score: 0.021\tLatest Score: 0.100\n",
      "Episode 500\tAverage Score: 0.015\tLatest Score: 0.000\n",
      "Episode 600\tAverage Score: 0.008\tLatest Score: 0.000\n",
      "Episode 700\tAverage Score: 0.035\tLatest Score: 0.000\n",
      "Episode 800\tAverage Score: 0.067\tLatest Score: 0.000\n",
      "Episode 900\tAverage Score: 0.054\tLatest Score: 0.090\n",
      "Episode 1000\tAverage Score: 0.077\tLatest Score: 0.100\n",
      "Episode 1100\tAverage Score: 0.094\tLatest Score: 0.100\n",
      "Episode 1200\tAverage Score: 0.084\tLatest Score: 0.090\n",
      "Episode 1300\tAverage Score: 0.091\tLatest Score: 0.090\n",
      "Episode 1400\tAverage Score: 0.098\tLatest Score: 0.300\n",
      "Episode 1500\tAverage Score: 0.132\tLatest Score: 0.100\n",
      "Episode 1600\tAverage Score: 0.128\tLatest Score: 0.090\n",
      "Episode 1700\tAverage Score: 0.132\tLatest Score: 0.090\n",
      "Episode 1800\tAverage Score: 0.103\tLatest Score: 0.090\n",
      "Episode 1900\tAverage Score: 0.131\tLatest Score: 0.090\n",
      "Episode 2000\tAverage Score: 0.171\tLatest Score: 0.100\n",
      "Episode 2100\tAverage Score: 0.196\tLatest Score: 0.600\n",
      "Episode 2200\tAverage Score: 0.178\tLatest Score: 0.200\n",
      "Episode 2300\tAverage Score: 0.172\tLatest Score: 0.100\n",
      "Episode 2400\tAverage Score: 0.186\tLatest Score: 0.300\n",
      "Episode 2500\tAverage Score: 0.172\tLatest Score: 0.200\n",
      "Episode 2600\tAverage Score: 0.273\tLatest Score: 0.100\n",
      "Episode 2700\tAverage Score: 0.229\tLatest Score: 0.100\n",
      "Episode 2800\tAverage Score: 0.304\tLatest Score: 0.300\n",
      "Episode 2900\tAverage Score: 0.384\tLatest Score: 0.300\n",
      "Episode 3000\tAverage Score: 0.309\tLatest Score: 0.100\n",
      "Episode 3100\tAverage Score: 0.304\tLatest Score: 0.600\n",
      "Episode 3200\tAverage Score: 0.255\tLatest Score: 0.200\n",
      "Episode 3300\tAverage Score: 0.278\tLatest Score: 0.000\n",
      "Episode 3400\tAverage Score: 0.416\tLatest Score: 0.000\n",
      "Episode 3500\tAverage Score: 0.367\tLatest Score: 0.590\n",
      "Episode  3557 Average score over 100 episodes =  0.503700007573\n",
      "Solved in  3557  episodes.\n"
     ]
    }
   ],
   "source": [
    "def ddpg(n_episodes=2000, max_t=1000):  \n",
    "    scores_deque = deque(maxlen=100)\n",
    "    scores = []\n",
    "    avg_scores = []\n",
    "    noise_amplitude = NOISE_AMPLITUDE\n",
    "    solved_in = 999999\n",
    "    for i_episode in range(1, n_episodes+1):\n",
    "        # Receive initial state\n",
    "        env_info = env.reset(train_mode=True)[brain_name]      # reset the environment    \n",
    "        states = env_info.vector_observations                  # get the current state (for each agent)\n",
    "        # Initialise agents with a random process for action exploration\n",
    "        maddpg_agent.reset()                                          # need to reset the noise\n",
    "        score = np.zeros(num_agents)\n",
    "        for t in range(max_t):\n",
    "            # For each agent, i, select action ai according to the current policy with added noise\n",
    "            noise_amplitude = max(NOISE_MIN, noise_amplitude * NOISE_FACTOR)\n",
    "            actions = maddpg_agent.get_actions(states, noise_amplitude)\n",
    "            # Execute actions and observe reward and new state\n",
    "            env_info = env.step(actions)[brain_name]\n",
    "            next_states = env_info.vector_observations\n",
    "            rewards = env_info.rewards\n",
    "            dones = env_info.local_done\n",
    "            # Step will store transitions in replay buffer, and for each agent sample random minibatch and update actor and critic\n",
    "            # and do a soft update of model parameters...\n",
    "            maddpg_agent.step(states, actions, rewards, next_states, dones)\n",
    "            score += rewards\n",
    "            states = next_states\n",
    "            if np.any(dones):\n",
    "                break\n",
    "        scores_deque.append(np.max(score))\n",
    "        scores.append(np.max(score))\n",
    "        avg_scores.append(np.mean(scores_deque))\n",
    "        #print('\\rEpisode {}\\tAverage Score: {:.3f}'.format(i_episode, np.mean(scores_deque)), end=\"\")\n",
    "        if i_episode % 100 == 0:\n",
    "            print('\\rEpisode {}\\tAverage Score: {:.3f}\\tLatest Score: {:.3f}'.format(i_episode, np.mean(scores_deque), scores[-1]))   \n",
    "        if avg_scores[-1] > 0.5:\n",
    "            solved_in = min(i_episode, solved_in)\n",
    "            if (i_episode == solved_in):\n",
    "                print('Episode ', i_episode, 'Average score over 100 episodes = ', avg_scores[-1])\n",
    "                maddpg_agent.save_weights()\n",
    "            break\n",
    "    return scores, avg_scores, solved_in\n",
    "\n",
    "scores, avg_scores, solved_in = ddpg(n_episodes=6000) \n",
    "if solved_in < 999999:\n",
    "    print('Solved in ',solved_in,' episodes.')\n",
    "else:\n",
    "    print('Environment not yet solved')"
   ]
  },
  {
   "cell_type": "code",
   "execution_count": 8,
   "metadata": {},
   "outputs": [
    {
     "data": {
      "image/png": "[encoded data removed]",
      "text/plain": [
       "<matplotlib.figure.Figure at 0x7f5f5367e550>"
      ]
     },
     "metadata": {
      "needs_background": "light"
     },
     "output_type": "display_data"
    }
   ],
   "source": [
    "fig = plt.figure()\n",
    "ax = fig.add_subplot(111)\n",
    "plt.plot(np.arange(1, len(scores)+1), scores, label = 'episode score')\n",
    "plt.plot(np.arange(1, len(scores)+1), avg_scores, label = 'average score over 100 episodes')\n",
    "plt.ylabel('Score')\n",
    "plt.xlabel('Episode #')\n",
    "plt.show()"
   ]
  },
  {
   "cell_type": "code",
   "execution_count": 9,
   "metadata": {},
   "outputs": [],
   "source": [
    "#Close environment if done\n",
    "env.close()"
   ]
  }
 ],
 "metadata": {
  "kernelspec": {
   "display_name": "Python 3",
   "language": "python",
   "name": "python3"
  },
  "language_info": {
   "codemirror_mode": {
    "name": "ipython",
    "version": 3
   },
   "file_extension": ".py",
   "mimetype": "text/x-python",
   "name": "python",
   "nbconvert_exporter": "python",
   "pygments_lexer": "ipython3",
   "version": "3.6.3"
  }
 },
 "nbformat": 4,
 "nbformat_minor": 2
}
